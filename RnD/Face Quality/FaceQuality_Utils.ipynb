{
 "cells": [
  {
   "cell_type": "code",
   "execution_count": 2,
   "metadata": {},
   "outputs": [],
   "source": [
    "import numpy as np\n",
    "import cv2\n",
    "import pandas as pd\n",
    "import os \n",
    "import math\n",
    "from cv2 import IMREAD_COLOR,IMREAD_UNCHANGED\n",
    "import csv\n",
    "\n",
    "# useful packeges\n",
    "import numpy as np\n",
    "import pandas as pd\n",
    "import matplotlib.pyplot as plt \n",
    "import seaborn as sns\n",
    "import skimage\n",
    "\n",
    "# statistic packeges\n",
    "from scipy.ndimage import variance\n",
    "from skimage import io\n",
    "from skimage.color import rgb2gray\n",
    "from skimage.filters import laplace\n",
    "from skimage.transform import resize\n"
   ]
  },
  {
   "cell_type": "code",
   "execution_count": 3,
   "metadata": {},
   "outputs": [],
   "source": [
    "THRESHOLD = 500\n",
    "BIGHTNESS_LEVEL_LOW = 75\n",
    "BIGHTNESS_LEVEL_HIGH = 170"
   ]
  },
  {
   "cell_type": "markdown",
   "metadata": {},
   "source": [
    "Image Brightness test below"
   ]
  },
  {
   "cell_type": "code",
   "execution_count": 4,
   "metadata": {},
   "outputs": [],
   "source": [
    "def testBrightness(img):\n",
    "    frame_gray = cv2.cvtColor(img,cv2.COLOR_BGR2GRAY)\n",
    "    Brightness_status , Brightness_level = algo_findDark(frame_gray)\n",
    "    return Brightness_status , Brightness_level\n",
    "\n",
    "def algo_findDark(image):\n",
    "    blur = cv2.blur(image, (5, 5))\n",
    "    mean = round(np.mean(blur),2)\n",
    "    if mean < BIGHTNESS_LEVEL_LOW:\n",
    "        return 'Dark', mean\n",
    "    elif mean > BIGHTNESS_LEVEL_LOW and mean < BIGHTNESS_LEVEL_HIGH:\n",
    "        return 'Good', mean\n",
    "    else:\n",
    "        return 'Too Bright' , mean"
   ]
  },
  {
   "cell_type": "markdown",
   "metadata": {},
   "source": [
    "Image Focus test below"
   ]
  },
  {
   "cell_type": "code",
   "execution_count": 5,
   "metadata": {},
   "outputs": [],
   "source": [
    "\n",
    "def variance_of_laplacian(img2):\n",
    "    # compute the Laplacian of the image and then return the focus\n",
    "    # measure, which is simply the variance of the Laplacian\n",
    "    gray = cv2.cvtColor(img2, cv2.COLOR_RGB2BGR)\n",
    "    return cv2.Laplacian(gray, cv2.CV_64F).var()\n",
    "\n",
    "def BGR2RGB(BGR_img):\n",
    "    # turning BGR pixel color to RGB\n",
    "    rgb_image = cv2.cvtColor(BGR_img, cv2.COLOR_BGR2RGB)\n",
    "    return rgb_image\n",
    "\n",
    "def blurrinesDetection(img):\n",
    "    img = cv2.resize(img, (400, 320)) \n",
    "    Focus_Status = \"Sharp\"\n",
    "\n",
    "    Focus_Level = variance_of_laplacian(img)\n",
    "    if Focus_Level < THRESHOLD:\n",
    "        Focus_Status = \"Blurry\"\n",
    "    return Focus_Status , Focus_Level\n",
    "\n",
    "\n",
    "def laplaceEdgeVariance(path):\n",
    "    # Load image\n",
    "    img = cv2.imread(path)\n",
    "\n",
    "    # Resize image\n",
    "    img = resize(img, (400, 600))\n",
    "    \n",
    "    # Gray-Scale change\n",
    "    img = rgb2gray(img)\n",
    "\n",
    "    # Edge detection\n",
    "    edge_laplace = laplace(img, ksize=4)\n",
    "    return [variance(edge_laplace),np.amax(edge_laplace)]\n",
    "\n",
    "def HeadPercent(img, cropH, cropW):\n",
    "    height, width, channels = img.shape \n",
    "    overall = height*width\n",
    "    cropped = cropH*cropW\n",
    "    percent = round(cropped/overall*100,2)\n",
    "\n",
    "    if percent < 20:\n",
    "        return 'face too far', percent\n",
    "    elif percent > 50:\n",
    "        return 'face too close', percent\n",
    "    else:\n",
    "        return 'Good', percent"
   ]
  },
  {
   "cell_type": "markdown",
   "metadata": {},
   "source": [
    "Image face detections and count test below"
   ]
  },
  {
   "cell_type": "code",
   "execution_count": 6,
   "metadata": {},
   "outputs": [],
   "source": [
    "def faceDetect(img, index):\n",
    "    gray = cv2.cvtColor(img,cv2.COLOR_BGR2GRAY)\n",
    "    # Load the cascade\n",
    "    face_cascade = cv2.CascadeClassifier('haarcascade_frontalface_default.xml')\n",
    "    # Detect faces\n",
    "    faces = face_cascade.detectMultiScale(gray, 1.1,  7 )\n",
    "    \n",
    "    count = len(faces)\n",
    "    # if no face found\n",
    "    if count < 1:\n",
    "        return 'N/A' , 'N/A' , 'N/A'\n",
    "\n",
    "        #if more than 1 face found, select the largest\n",
    "    elif count == 1:\n",
    "        x, y, w, h = faces[0]\n",
    "        dist_status, percent= HeadPercent(img, h, w)\n",
    "        cv2.rectangle(img, (x, y), (x+w, y+h), (0, 0, 255), 2)\n",
    "        faces = img[y:y + h, x:x + w]\n",
    "        \n",
    "        #       Write out image to directory (only save face im image)\n",
    "        #  **** Send image here to serve  ****\n",
    "        if dist_status == 'Good':\n",
    "            # cv2.imwrite('{}.jpg'.format(index+1), faces)  #UNCOMMENT TO PRINT IMAGES\n",
    "            return dist_status, percent , 1\n",
    "        else:\n",
    "            return dist_status, percent , 1\n",
    "\n",
    "    # if more than 1 face in image      \n",
    "    else:\n",
    "        largest = [0 , 0]\n",
    "        for i,  (x,y,h,w) in enumerate(faces):\n",
    "            a = HeadPercent(img, h, w)\n",
    "            if  a[1] > largest[0]:\n",
    "                largest = [a[1], i]\n",
    "\n",
    "        # cv2.imwrite('{}.jpg'.format(index+1), faces[largest[1]])  #UNCOMMENT TO PRINT IMAGES\n",
    "        x1, y1, w1, h1 = faces[largest[1]]\n",
    "        LH_dist, LH_percent =  HeadPercent(img, w1, h1)\n",
    "        return LH_dist, LH_percent , count"
   ]
  }
 ],
 "metadata": {
  "kernelspec": {
   "display_name": "Python 3.10.6 64-bit",
   "language": "python",
   "name": "python3"
  },
  "language_info": {
   "codemirror_mode": {
    "name": "ipython",
    "version": 3
   },
   "file_extension": ".py",
   "mimetype": "text/x-python",
   "name": "python",
   "nbconvert_exporter": "python",
   "pygments_lexer": "ipython3",
   "version": "3.10.6"
  },
  "orig_nbformat": 4,
  "vscode": {
   "interpreter": {
    "hash": "aee8b7b246df8f9039afb4144a1f6fd8d2ca17a180786b69acc140d282b71a49"
   }
  }
 },
 "nbformat": 4,
 "nbformat_minor": 2
}
